{
 "cells": [
  {
   "cell_type": "code",
   "execution_count": 374,
   "metadata": {},
   "outputs": [],
   "source": [
    "import numpy as np\n",
    "from pynput.mouse import Button, Controller\n",
    "import mss\n",
    "import re\n",
    "import math\n",
    "import matplotlib.pyplot as plt\n",
    "import pytesseract\n",
    "import subprocess\n",
    "import cv2\n",
    "import time\n",
    "from PIL import Image"
   ]
  },
  {
   "cell_type": "code",
   "execution_count": 375,
   "metadata": {},
   "outputs": [],
   "source": [
    "# slither.io: half-split screen of chrome, with bookmark menu\n",
    "#\n",
    "x_pad = 640\n",
    "y_pad = 100\n",
    "with mss.mss() as sct:\n",
    "    mon0 = sct.monitors[0]\n",
    "    monitor = {'top': y_pad, 'left': x_pad, 'width': 1280 - x_pad, 'height': 700 - y_pad}\n",
    "    sh = sct.grab(monitor)\n",
    "    x = np.asarray(sh)\n",
    "    x = x[::2, ::2, :-1]"
   ]
  },
  {
   "cell_type": "code",
   "execution_count": 376,
   "metadata": {},
   "outputs": [
    {
     "data": {
      "image/png": "[encoded data removed]",
      "text/plain": [
       "<matplotlib.figure.Figure at 0x11a58f2b0>"
      ]
     },
     "metadata": {},
     "output_type": "display_data"
    }
   ],
   "source": [
    "pytesseract.image_to_string(Image.fromarray(x) )\n",
    "x.shape\n",
    "plt.imshow(x)\n",
    "plt.show()"
   ]
  },
  {
   "cell_type": "code",
   "execution_count": 377,
   "metadata": {},
   "outputs": [],
   "source": [
    "def get_coords(menu):\n",
    "    coords_dict = {\n",
    "        \"ending\": (956, 513),\n",
    "        \"skip_ad\": (1200, 780),\n",
    "        \"playing\": (960, 450)\n",
    "    }\n",
    "    return coords_dict[menu]"
   ]
  },
  {
   "cell_type": "code",
   "execution_count": 378,
   "metadata": {},
   "outputs": [],
   "source": [
    "# during playing\n",
    "score_width = 24\n",
    "score_height = 16\n",
    "\n",
    "# allow for 36 bins of movement\n",
    "angle_bins = 36.0\n",
    "\n",
    "# death detection relative to x_pad and y_pad\n",
    "detect_x = 120\n",
    "detect_y = 0\n",
    "detect_width = 400\n",
    "detect_height = 110\n",
    "\n",
    "# score relative to x_pad and y_pad\n",
    "score_x = 86\n",
    "score_y = 660\n",
    "score_width = 50\n",
    "score_height = 15\n",
    "\n",
    "# delay time for every action\n",
    "action_delay = 0.05\n",
    "\n",
    "# skip_ad detection\n",
    "skip_x = 160\n",
    "skip_y = 670\n",
    "skip_width = 320\n",
    "skip_height = 20\n",
    "\n",
    "\n",
    "mouse = Controller()"
   ]
  },
  {
   "cell_type": "code",
   "execution_count": 379,
   "metadata": {},
   "outputs": [],
   "source": [
    "# state is image\n",
    "def restart(state):\n",
    "    detect_area = state[detect_y:detect_y+detect_height,detect_x:detect_x+detect_width]\n",
    "#     plt.imshow(detect_area)\n",
    "#     plt.show()\n",
    "#     temp = np.asarray([22,28,34]* int(detect_area.size / 4) ).reshape((detect_area.shape[0], detect_area.shape[1], 4))\n",
    "    max_diff = np.amax(np.fabs(detect_area - np.array([22,28,34])) )\n",
    "    if max_diff > 15:\n",
    "        print(\"in the game\",end=\"\\r\")\n",
    "    else:\n",
    "        print(\"dead\",end=\"\\r\")\n",
    "#         x,y = get_coords(\"ending\")\n",
    "#         mouse.position = (x,y)\n",
    "#         mouse.press(Button.left)\n",
    "#         mouse.release(Button.left)"
   ]
  },
  {
   "cell_type": "code",
   "execution_count": 395,
   "metadata": {},
   "outputs": [],
   "source": [
    "# last_score is reset everytime when the game finished\n",
    "last_score = 0\n",
    "idx = 0\n",
    "\n",
    "def get_score(state):\n",
    "    global last_score\n",
    "    detect_area = state[score_y:score_y+score_height,score_x:score_x+score_width]\n",
    "#     plt.imshow(detect_area)\n",
    "#     plt.show()\n",
    "    diff = np.fabs(detect_area - np.array([206,206,206]) )\n",
    "    res = np.array([[255,255,255] if np.amax(i) < 10 else [0,0,0] for i in diff.reshape((-1,3))]).reshape(detect_area.shape).astype(np.uint8)\n",
    "    \n",
    "    img = Image.fromarray(res.astype(np.uint8))\n",
    "    img.save(\"testing.png\")\n",
    "    cmd = \"tesseract testing.png stdout -c tessedit_char_whitelist=0123456789 -psm 6\"\n",
    "    string = subprocess.check_output(cmd, shell=True)\n",
    "    string = re.sub(\"[^0-9]\",\"\",str(string) )\n",
    "#     string = pytesseract.image_to_string(img, config=\"-c tessedit_char_whitelist=0123456789 -psm 6\")\n",
    "    if(not len(string.strip()) == 0):\n",
    "        try:\n",
    "            score = int(string.strip() )\n",
    "        except:\n",
    "            img.save(\"error{}.png\".format(idx))\n",
    "            idx += 1\n",
    "            return None\n",
    "        if(score > 10):\n",
    "            if((last_score >= score and last_score - score < 10) \n",
    "               or (score >= last_score and score - last_score < 500) ):\n",
    "                print(score,end=\" \")\n",
    "                last_score = score\n",
    "        else:\n",
    "            return None\n",
    "    else:\n",
    "        return None\n",
    "#     ret, binarize = cv2.threshold(detect_area, 200, 255, cv2.THRESH_BINARY) \n",
    "#     result = Image.fromarray(binarize)\n",
    "#     result.save(\"testing.png\")\n",
    "#     cmd = \"tesseract testing.png stdout -c tessedit_char_whitelist=0123456789 -psm 6\"\n",
    "#     score = subprocess.check_output(cmd, shell=True)\n",
    "#     print(score, end=\"\\r\")\n",
    "#     plt.imshow(binarize)\n",
    "#     plt.show()\n",
    "#     result = Image.fromarray(detect_area)\n",
    "#     result.save(\"testing.png\")\n",
    "#     print(pytesseract.image_to_string(Image.open('/Users/ximinlin/Desktop/twntyone.png') ) )\n",
    "#     score = int(pytesseract.image_to_string(Image.fromarray(detect_area) ) )\n",
    "#     print(score)"
   ]
  },
  {
   "cell_type": "code",
   "execution_count": 396,
   "metadata": {},
   "outputs": [],
   "source": [
    "# action defines clicking or not\n",
    "# for click or not, each case with 36 choice bins for 360 degrees\n",
    "# assume about 30 pixels from the head of snake\n",
    "def move_mouse(action):\n",
    "    haed_x, head_y = get_coords(\"playing\")\n",
    "    xm = int(30 * np.cos(math.radians(action / angle_bins * 360) ) + head_x )\n",
    "    ym = int(30 * np.sin(math.radians(action / angle_bins * 360) ) + head_y )\n",
    "    mouse.position = (xm, ym)\n",
    "    if action >= 36:\n",
    "        mouse.press(Button.left)\n",
    "    else:\n",
    "        mouse.release(Button.left)\n",
    "    time.sleep(action_delay)"
   ]
  },
  {
   "cell_type": "code",
   "execution_count": 397,
   "metadata": {},
   "outputs": [],
   "source": [
    "def skip_ad(state):\n",
    "    detect_area = state[skip_y:skip_y+skip_height,skip_x:skip_x+skip_width]\n",
    "    max_diff = np.amax(np.fabs(detect_area - np.array([3,4,5]) ) )\n",
    "    if max_diff > 25:\n",
    "        print(\"no ad\", end=\"\\r\")\n",
    "    else:\n",
    "        print(\"ad\", end=\"\\r\")\n",
    "        xm,ym = get_coords(\"skip_ad\")\n",
    "        mouse.position = (xm,ym)\n",
    "        mouse.press(Button.left)\n",
    "        time.sleep(0.1)\n",
    "        mouse.release(Button.left)"
   ]
  },
  {
   "cell_type": "code",
   "execution_count": 400,
   "metadata": {},
   "outputs": [
    {
     "name": "stdout",
     "output_type": "stream",
     "text": [
      "410 "
     ]
    },
    {
     "ename": "KeyboardInterrupt",
     "evalue": "",
     "output_type": "error",
     "traceback": [
      "\u001b[0;31m---------------------------------------------------------------------------\u001b[0m",
      "\u001b[0;31mKeyboardInterrupt\u001b[0m                         Traceback (most recent call last)",
      "\u001b[0;32m<ipython-input-400-ea1ed1450c14>\u001b[0m in \u001b[0;36m<module>\u001b[0;34m()\u001b[0m\n\u001b[1;32m     10\u001b[0m \u001b[0;34m\u001b[0m\u001b[0m\n\u001b[1;32m     11\u001b[0m \u001b[0;32mwhile\u001b[0m \u001b[0;32mTrue\u001b[0m\u001b[0;34m:\u001b[0m\u001b[0;34m\u001b[0m\u001b[0m\n\u001b[0;32m---> 12\u001b[0;31m     \u001b[0mtest_without_control\u001b[0m\u001b[0;34m(\u001b[0m\u001b[0;34m)\u001b[0m\u001b[0;34m\u001b[0m\u001b[0m\n\u001b[0m\u001b[1;32m     13\u001b[0m \u001b[0;31m#     break\u001b[0m\u001b[0;34m\u001b[0m\u001b[0;34m\u001b[0m\u001b[0m\n",
      "\u001b[0;32m<ipython-input-400-ea1ed1450c14>\u001b[0m in \u001b[0;36mtest_without_control\u001b[0;34m()\u001b[0m\n\u001b[1;32m      7\u001b[0m \u001b[0;31m#     plt.imshow(x)\u001b[0m\u001b[0;34m\u001b[0m\u001b[0;34m\u001b[0m\u001b[0m\n\u001b[1;32m      8\u001b[0m \u001b[0;31m#     plt.show()\u001b[0m\u001b[0;34m\u001b[0m\u001b[0;34m\u001b[0m\u001b[0m\n\u001b[0;32m----> 9\u001b[0;31m     \u001b[0mget_score\u001b[0m\u001b[0;34m(\u001b[0m\u001b[0mx\u001b[0m\u001b[0;34m)\u001b[0m\u001b[0;34m\u001b[0m\u001b[0m\n\u001b[0m\u001b[1;32m     10\u001b[0m \u001b[0;34m\u001b[0m\u001b[0m\n\u001b[1;32m     11\u001b[0m \u001b[0;32mwhile\u001b[0m \u001b[0;32mTrue\u001b[0m\u001b[0;34m:\u001b[0m\u001b[0;34m\u001b[0m\u001b[0m\n",
      "\u001b[0;32m<ipython-input-395-80f5003775a0>\u001b[0m in \u001b[0;36mget_score\u001b[0;34m(state)\u001b[0m\n\u001b[1;32m     13\u001b[0m     \u001b[0mimg\u001b[0m\u001b[0;34m.\u001b[0m\u001b[0msave\u001b[0m\u001b[0;34m(\u001b[0m\u001b[0;34m\"testing.png\"\u001b[0m\u001b[0;34m)\u001b[0m\u001b[0;34m\u001b[0m\u001b[0m\n\u001b[1;32m     14\u001b[0m     \u001b[0mcmd\u001b[0m \u001b[0;34m=\u001b[0m \u001b[0;34m\"tesseract testing.png stdout -c tessedit_char_whitelist=0123456789 -psm 6\"\u001b[0m\u001b[0;34m\u001b[0m\u001b[0m\n\u001b[0;32m---> 15\u001b[0;31m     \u001b[0mstring\u001b[0m \u001b[0;34m=\u001b[0m \u001b[0msubprocess\u001b[0m\u001b[0;34m.\u001b[0m\u001b[0mcheck_output\u001b[0m\u001b[0;34m(\u001b[0m\u001b[0mcmd\u001b[0m\u001b[0;34m,\u001b[0m \u001b[0mshell\u001b[0m\u001b[0;34m=\u001b[0m\u001b[0;32mTrue\u001b[0m\u001b[0;34m)\u001b[0m\u001b[0;34m\u001b[0m\u001b[0m\n\u001b[0m\u001b[1;32m     16\u001b[0m     \u001b[0mstring\u001b[0m \u001b[0;34m=\u001b[0m \u001b[0mre\u001b[0m\u001b[0;34m.\u001b[0m\u001b[0msub\u001b[0m\u001b[0;34m(\u001b[0m\u001b[0;34m\"[^0-9]\"\u001b[0m\u001b[0;34m,\u001b[0m\u001b[0;34m\"\"\u001b[0m\u001b[0;34m,\u001b[0m\u001b[0mstr\u001b[0m\u001b[0;34m(\u001b[0m\u001b[0mstring\u001b[0m\u001b[0;34m)\u001b[0m \u001b[0;34m)\u001b[0m\u001b[0;34m\u001b[0m\u001b[0m\n\u001b[1;32m     17\u001b[0m \u001b[0;31m#     string = pytesseract.image_to_string(img, config=\"-c tessedit_char_whitelist=0123456789 -psm 6\")\u001b[0m\u001b[0;34m\u001b[0m\u001b[0;34m\u001b[0m\u001b[0m\n",
      "\u001b[0;32m/usr/local/Cellar/python3/3.6.2/Frameworks/Python.framework/Versions/3.6/lib/python3.6/subprocess.py\u001b[0m in \u001b[0;36mcheck_output\u001b[0;34m(timeout, *popenargs, **kwargs)\u001b[0m\n\u001b[1;32m    334\u001b[0m \u001b[0;34m\u001b[0m\u001b[0m\n\u001b[1;32m    335\u001b[0m     return run(*popenargs, stdout=PIPE, timeout=timeout, check=True,\n\u001b[0;32m--> 336\u001b[0;31m                **kwargs).stdout\n\u001b[0m\u001b[1;32m    337\u001b[0m \u001b[0;34m\u001b[0m\u001b[0m\n\u001b[1;32m    338\u001b[0m \u001b[0;34m\u001b[0m\u001b[0m\n",
      "\u001b[0;32m/usr/local/Cellar/python3/3.6.2/Frameworks/Python.framework/Versions/3.6/lib/python3.6/subprocess.py\u001b[0m in \u001b[0;36mrun\u001b[0;34m(input, timeout, check, *popenargs, **kwargs)\u001b[0m\n\u001b[1;32m    403\u001b[0m     \u001b[0;32mwith\u001b[0m \u001b[0mPopen\u001b[0m\u001b[0;34m(\u001b[0m\u001b[0;34m*\u001b[0m\u001b[0mpopenargs\u001b[0m\u001b[0;34m,\u001b[0m \u001b[0;34m**\u001b[0m\u001b[0mkwargs\u001b[0m\u001b[0;34m)\u001b[0m \u001b[0;32mas\u001b[0m \u001b[0mprocess\u001b[0m\u001b[0;34m:\u001b[0m\u001b[0;34m\u001b[0m\u001b[0m\n\u001b[1;32m    404\u001b[0m         \u001b[0;32mtry\u001b[0m\u001b[0;34m:\u001b[0m\u001b[0;34m\u001b[0m\u001b[0m\n\u001b[0;32m--> 405\u001b[0;31m             \u001b[0mstdout\u001b[0m\u001b[0;34m,\u001b[0m \u001b[0mstderr\u001b[0m \u001b[0;34m=\u001b[0m \u001b[0mprocess\u001b[0m\u001b[0;34m.\u001b[0m\u001b[0mcommunicate\u001b[0m\u001b[0;34m(\u001b[0m\u001b[0minput\u001b[0m\u001b[0;34m,\u001b[0m \u001b[0mtimeout\u001b[0m\u001b[0;34m=\u001b[0m\u001b[0mtimeout\u001b[0m\u001b[0;34m)\u001b[0m\u001b[0;34m\u001b[0m\u001b[0m\n\u001b[0m\u001b[1;32m    406\u001b[0m         \u001b[0;32mexcept\u001b[0m \u001b[0mTimeoutExpired\u001b[0m\u001b[0;34m:\u001b[0m\u001b[0;34m\u001b[0m\u001b[0m\n\u001b[1;32m    407\u001b[0m             \u001b[0mprocess\u001b[0m\u001b[0;34m.\u001b[0m\u001b[0mkill\u001b[0m\u001b[0;34m(\u001b[0m\u001b[0;34m)\u001b[0m\u001b[0;34m\u001b[0m\u001b[0m\n",
      "\u001b[0;32m/usr/local/Cellar/python3/3.6.2/Frameworks/Python.framework/Versions/3.6/lib/python3.6/subprocess.py\u001b[0m in \u001b[0;36mcommunicate\u001b[0;34m(self, input, timeout)\u001b[0m\n\u001b[1;32m    823\u001b[0m                 \u001b[0mself\u001b[0m\u001b[0;34m.\u001b[0m\u001b[0m_stdin_write\u001b[0m\u001b[0;34m(\u001b[0m\u001b[0minput\u001b[0m\u001b[0;34m)\u001b[0m\u001b[0;34m\u001b[0m\u001b[0m\n\u001b[1;32m    824\u001b[0m             \u001b[0;32melif\u001b[0m \u001b[0mself\u001b[0m\u001b[0;34m.\u001b[0m\u001b[0mstdout\u001b[0m\u001b[0;34m:\u001b[0m\u001b[0;34m\u001b[0m\u001b[0m\n\u001b[0;32m--> 825\u001b[0;31m                 \u001b[0mstdout\u001b[0m \u001b[0;34m=\u001b[0m \u001b[0mself\u001b[0m\u001b[0;34m.\u001b[0m\u001b[0mstdout\u001b[0m\u001b[0;34m.\u001b[0m\u001b[0mread\u001b[0m\u001b[0;34m(\u001b[0m\u001b[0;34m)\u001b[0m\u001b[0;34m\u001b[0m\u001b[0m\n\u001b[0m\u001b[1;32m    826\u001b[0m                 \u001b[0mself\u001b[0m\u001b[0;34m.\u001b[0m\u001b[0mstdout\u001b[0m\u001b[0;34m.\u001b[0m\u001b[0mclose\u001b[0m\u001b[0;34m(\u001b[0m\u001b[0;34m)\u001b[0m\u001b[0;34m\u001b[0m\u001b[0m\n\u001b[1;32m    827\u001b[0m             \u001b[0;32melif\u001b[0m \u001b[0mself\u001b[0m\u001b[0;34m.\u001b[0m\u001b[0mstderr\u001b[0m\u001b[0;34m:\u001b[0m\u001b[0;34m\u001b[0m\u001b[0m\n",
      "\u001b[0;31mKeyboardInterrupt\u001b[0m: "
     ]
    }
   ],
   "source": [
    "def test_without_control():\n",
    "    mon0 = sct.monitors[0]\n",
    "    monitor = {'top': y_pad, 'left': x_pad, 'width': 1280 - x_pad, 'height': 800 - y_pad}\n",
    "    sh = sct.grab(monitor)\n",
    "    x = np.asarray(sh)\n",
    "    x = x[::2, ::2, :-1]\n",
    "#     plt.imshow(x)\n",
    "#     plt.show()\n",
    "    get_score(x)\n",
    "\n",
    "while True:\n",
    "    test_without_control()\n",
    "#     break"
   ]
  },
  {
   "cell_type": "code",
   "execution_count": null,
   "metadata": {},
   "outputs": [],
   "source": [
    "def test_with_control():\n",
    "    x,y = get_coords(\"ending\")\n",
    "    mouse.position = (x,y)\n",
    "    mouse.press(Button.left)\n",
    "    mouse.release(Button.left)"
   ]
  }
 ],
 "metadata": {
  "kernelspec": {
   "display_name": "Python 3",
   "language": "python",
   "name": "python3"
  },
  "language_info": {
   "codemirror_mode": {
    "name": "ipython",
    "version": 3
   },
   "file_extension": ".py",
   "mimetype": "text/x-python",
   "name": "python",
   "nbconvert_exporter": "python",
   "pygments_lexer": "ipython3",
   "version": "3.6.2"
  }
 },
 "nbformat": 4,
 "nbformat_minor": 2
}
