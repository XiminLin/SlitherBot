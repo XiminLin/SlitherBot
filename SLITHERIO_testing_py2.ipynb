{
 "cells": [
  {
   "cell_type": "code",
   "execution_count": 56,
   "metadata": {},
   "outputs": [],
   "source": [
    "import numpy as np\n",
    "import time\n",
    "import mss\n",
    "import matplotlib.pyplot as plt\n",
    "from PIL import Image\n",
    "# import pynput"
   ]
  },
  {
   "cell_type": "code",
   "execution_count": 57,
   "metadata": {
    "scrolled": true
   },
   "outputs": [
    {
     "name": "stdout",
     "output_type": "stream",
     "text": [
      "0.0474281311035\n"
     ]
    }
   ],
   "source": [
    "with mss.mss() as sct:\n",
    "    st = time.time()\n",
    "    mon0 = sct.monitors[0]\n",
    "    monitor = {'top': 0, 'left': 0, 'width': mon0[\"width\"], 'height': mon0[\"height\"]}\n",
    "    sh = sct.grab(monitor)\n",
    "    x = np.asarray(sh)\n",
    "    print time.time() - st\n",
    "    mss.tools.to_png(sh.rgb, sh.size, \"mon0\")\n",
    "    mon1 = sct.monitors[0]\n",
    "    monitor = {'top': 0, 'left': 0, 'width': mon1[\"width\"], 'height': mon1[\"height\"]}\n",
    "    sh = sct.grab(monitor)\n",
    "    mss.tools.to_png(sh.rgb, sh.size, \"mon1\")\n",
    "    y = np.asarray(sh)"
   ]
  },
  {
   "cell_type": "code",
   "execution_count": null,
   "metadata": {},
   "outputs": [],
   "source": []
  }
 ],
 "metadata": {
  "kernelspec": {
   "display_name": "Python 2",
   "language": "python",
   "name": "python2"
  },
  "language_info": {
   "codemirror_mode": {
    "name": "ipython",
    "version": 3
   },
   "file_extension": ".py",
   "mimetype": "text/x-python",
   "name": "python",
   "nbconvert_exporter": "python",
   "pygments_lexer": "ipython3",
   "version": "3.6.2"
  }
 },
 "nbformat": 4,
 "nbformat_minor": 2
}
